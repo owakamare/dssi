{
 "cells": [
  {
   "cell_type": "markdown",
   "id": "176386eb",
   "metadata": {
    "id": "176386eb"
   },
   "source": [
    "# Grouping and Storing Data\n",
    "\n",
    "Python and its libraries provide many ways to group data together.   Some important ones:\n",
    "\n",
    "- Lists, Tuples, Sets, Dictionaries (built-in to Python)\n",
    "\n",
    "- Arrays (found in the NumPy library)\n",
    "\n",
    "- DataFrames (found in the Pandas library)"
   ]
  },
  {
   "cell_type": "markdown",
   "id": "34b2d594",
   "metadata": {
    "id": "34b2d594"
   },
   "source": [
    "The above are listed in order of increasing functionality and sophistication\n",
    "<br>\n",
    "In general you should use the simplest one that meets your needs...\n"
   ]
  },
  {
   "cell_type": "markdown",
   "id": "ac8ef4cf",
   "metadata": {
    "id": "ac8ef4cf"
   },
   "source": [
    "\n",
    "## Sequences (built into Python)\n",
    "\n",
    "\n",
    "Sequences are a basic type of structure used to group data. You don't need to import any additional libraries to use them.\n",
    "\n",
    "We will focus mostly on one type of sequence: **lists**! (**sets** and **tuples** are other useful types of sequences that you may want to investigate on your own)\n",
    "\n",
    "A **list** is an ordered sequence of values that can be changed.\n",
    "\n",
    "You can create a list by using square brackets \"[ ]\"\n"
   ]
  },
  {
   "cell_type": "markdown",
   "id": "89cabc59",
   "metadata": {
    "id": "89cabc59"
   },
   "source": [
    "### Let's create a list"
   ]
  },
  {
   "cell_type": "code",
   "execution_count": 1,
   "id": "7195af50",
   "metadata": {
    "id": "7195af50"
   },
   "outputs": [
    {
     "data": {
      "text/plain": [
       "['California',\n",
       " 'Illinois',\n",
       " 'North Carolina',\n",
       " 'Texas',\n",
       " 'Georgia',\n",
       " 'Washington D.C.']"
      ]
     },
     "execution_count": 1,
     "metadata": {},
     "output_type": "execute_result"
    }
   ],
   "source": [
    "#each element is separated by commas\n",
    "\n",
    "School_locations = [\"California\", \"Illinois\", \"North Carolina\", \"Texas\", \"Georgia\", \"Washington D.C.\"]\n",
    "School_locations"
   ]
  },
  {
   "cell_type": "markdown",
   "id": "690589f6",
   "metadata": {
    "id": "690589f6"
   },
   "source": [
    "#### Lists can have different data types!\n"
   ]
  },
  {
   "cell_type": "code",
   "execution_count": 2,
   "id": "275d9c59",
   "metadata": {
    "id": "275d9c59"
   },
   "outputs": [
    {
     "data": {
      "text/plain": [
       "['California', 38, 3.14159]"
      ]
     },
     "execution_count": 2,
     "metadata": {},
     "output_type": "execute_result"
    }
   ],
   "source": [
    "Random_stuff = [\"California\", 38, 3.14159] #A string, int, float\n",
    "Random_stuff"
   ]
  },
  {
   "cell_type": "markdown",
   "id": "90380d8d",
   "metadata": {
    "id": "90380d8d"
   },
   "source": [
    "### Built-in Functions\n",
    "\n",
    "\n",
    "Recall Python has built-in functions of the form ```function_name()```\n",
    "A very common one is the ```print()``` function.\n",
    "\n",
    "```type()``` is another important function. We can call this on a number, string, list, or any object to see its type!\n"
   ]
  },
  {
   "cell_type": "code",
   "execution_count": 3,
   "id": "0d074f4e",
   "metadata": {
    "id": "0d074f4e"
   },
   "outputs": [
    {
     "name": "stdout",
     "output_type": "stream",
     "text": [
      "California\n",
      "<class 'str'>\n",
      "<class 'int'>\n",
      "<class 'str'>\n",
      "<class 'float'>\n",
      "<class 'list'>\n"
     ]
    }
   ],
   "source": [
    "print(\"California\")\n",
    "print(type(\"California\"))\n",
    "print(type(38))\n",
    "print(type(\"38\"))\n",
    "print(type(3.14))\n",
    "print(type(Random_stuff))"
   ]
  },
  {
   "cell_type": "markdown",
   "id": "4d31b38a",
   "metadata": {
    "id": "4d31b38a"
   },
   "source": [
    "We can also find the length of a list in the same way we found the length of a string:"
   ]
  },
  {
   "cell_type": "code",
   "execution_count": 4,
   "id": "6c014dfe",
   "metadata": {
    "id": "6c014dfe"
   },
   "outputs": [
    {
     "data": {
      "text/plain": [
       "3"
      ]
     },
     "execution_count": 4,
     "metadata": {},
     "output_type": "execute_result"
    }
   ],
   "source": [
    "len(Random_stuff)"
   ]
  },
  {
   "cell_type": "markdown",
   "id": "b8d57986",
   "metadata": {
    "id": "b8d57986"
   },
   "source": [
    "Note: We will discuss more built-in functions as they become important."
   ]
  },
  {
   "cell_type": "markdown",
   "id": "558e6388",
   "metadata": {
    "id": "558e6388"
   },
   "source": [
    "## Accessing values from a list\n",
    "\n",
    "\n",
    "Each element of a sequence is assigned an index corresponding to its position where **indices start at 0**. We can access an element by calling the sequence or list and putting in square brackets the element we want!\n"
   ]
  },
  {
   "cell_type": "code",
   "execution_count": null,
   "id": "a4138f88",
   "metadata": {
    "id": "a4138f88"
   },
   "outputs": [],
   "source": [
    "School_locations = [\"California\", \"Illinois\", \"North Carolina\", \"Texas\", \"Georgia\", \"Washington D.C.\"]"
   ]
  },
  {
   "cell_type": "code",
   "execution_count": 5,
   "id": "c7f296ba",
   "metadata": {
    "id": "c7f296ba"
   },
   "outputs": [
    {
     "data": {
      "text/plain": [
       "'Illinois'"
      ]
     },
     "execution_count": 5,
     "metadata": {},
     "output_type": "execute_result"
    }
   ],
   "source": [
    "School_locations[1]"
   ]
  },
  {
   "cell_type": "code",
   "execution_count": 6,
   "id": "197cf6ff",
   "metadata": {
    "id": "197cf6ff"
   },
   "outputs": [
    {
     "data": {
      "text/plain": [
       "'California'"
      ]
     },
     "execution_count": 6,
     "metadata": {},
     "output_type": "execute_result"
    }
   ],
   "source": [
    "School_locations[0]"
   ]
  },
  {
   "cell_type": "markdown",
   "id": "32115934",
   "metadata": {
    "id": "32115934"
   },
   "source": [
    "Negative indexes count from the end of the sequence\n"
   ]
  },
  {
   "cell_type": "code",
   "execution_count": null,
   "id": "fd7d14a1",
   "metadata": {
    "id": "fd7d14a1"
   },
   "outputs": [],
   "source": [
    "School_locations[-1]"
   ]
  },
  {
   "cell_type": "markdown",
   "id": "06850100",
   "metadata": {
    "id": "06850100"
   },
   "source": [
    "This is useful if our list is long or we want the first or second element from the end!"
   ]
  },
  {
   "cell_type": "markdown",
   "id": "5e7a5f6c",
   "metadata": {
    "id": "5e7a5f6c"
   },
   "source": [
    "### ✏ <mark style=\"background-color: Thistle\"> Code Comprehension: </mark>\n",
    "\n",
    "\n",
    "There are six elements in our list ```School_locations```, what will happen when we run the following code?\n",
    "\n",
    "\n",
    "```python\n",
    "School_locations = [\"California\", \"Illinois\", \"North Carolina\", \"Texas\", \"Georgia\", \"Washington D.C.\"]\n",
    "\n",
    "School_locations[6]\n",
    "```\n"
   ]
  },
  {
   "cell_type": "markdown",
   "id": "ae4667be",
   "metadata": {
    "id": "ae4667be"
   },
   "source": [
    "Nothing will happen. You need seven elements to run 6 indexs"
   ]
  },
  {
   "cell_type": "markdown",
   "id": "0033412f",
   "metadata": {
    "id": "0033412f"
   },
   "source": [
    "### List Slicing\n",
    "\n",
    "We can also extract a \"slice\" of a list.\n",
    "\n",
    "The range of elements can be specified with a colon. The output is a list starting at left index and stopping at (right index -1). The range you specify is a half-closed interval \\[start,end)\n",
    "\n",
    "\n",
    "\n",
    "```python\n",
    "list[start: end]\n",
    "```\n"
   ]
  },
  {
   "cell_type": "code",
   "execution_count": 7,
   "id": "6f1fde90",
   "metadata": {
    "colab": {
     "base_uri": "https://localhost:8080/"
    },
    "executionInfo": {
     "elapsed": 48,
     "status": "ok",
     "timestamp": 1749646371477,
     "user": {
      "displayName": "Theron White",
      "userId": "14734207447502985845"
     },
     "user_tz": 240
    },
    "id": "6f1fde90",
    "outputId": "8a47f387-664e-471b-ea11-8c0ecf41d359"
   },
   "outputs": [
    {
     "data": {
      "text/plain": [
       "['Illinois', 'North Carolina']"
      ]
     },
     "execution_count": 7,
     "metadata": {},
     "output_type": "execute_result"
    }
   ],
   "source": [
    "School_locations[1:3] # up to but not including the end of the slice"
   ]
  },
  {
   "cell_type": "markdown",
   "id": "672db60b",
   "metadata": {
    "id": "672db60b"
   },
   "source": [
    "The above prints out the second and third elements.\n"
   ]
  },
  {
   "cell_type": "markdown",
   "id": "8c386075",
   "metadata": {
    "id": "8c386075"
   },
   "source": [
    "We can still slice a list by 'leaving out' a starting (or ending) position. The missing position will revert to the default. The default start value is the beginning of the list. The default end value is the end of the list."
   ]
  },
  {
   "cell_type": "code",
   "execution_count": 3,
   "id": "84e9f9d8",
   "metadata": {
    "colab": {
     "base_uri": "https://localhost:8080/"
    },
    "executionInfo": {
     "elapsed": 33,
     "status": "ok",
     "timestamp": 1749646403000,
     "user": {
      "displayName": "Theron White",
      "userId": "14734207447502985845"
     },
     "user_tz": 240
    },
    "id": "84e9f9d8",
    "outputId": "9ff6268b-ea15-457d-9570-18814cb6149a"
   },
   "outputs": [
    {
     "data": {
      "text/plain": [
       "['California', 'Illinois', 'North Carolina']"
      ]
     },
     "execution_count": 3,
     "metadata": {},
     "output_type": "execute_result"
    }
   ],
   "source": [
    "School_locations[:3] #start at beginning stop at index end-1 -----> 3-1=2\n"
   ]
  },
  {
   "cell_type": "markdown",
   "id": "e4c3c0b1",
   "metadata": {
    "id": "e4c3c0b1"
   },
   "source": [
    "###  ✏ <mark style=\"background-color: Thistle\"> Code Comprehension: </mark>\n",
    "What will the following output?\n",
    "\n",
    "```python\n",
    "School_locations = [\"California\", \"Illinois\", \"North Carolina\", \"Texas\", \"Georgia\", \"Washington D.C.\"]  \n",
    "\n",
    "School_locations[:]\n",
    "```\n",
    "\n",
    "\n",
    "\n",
    "A. ```[]```\n",
    "\n",
    "\n",
    "\n",
    "B. ```[\"California\", \"Washington D.C.\"]  ```\n",
    "\n",
    "\n",
    "\n",
    "\n",
    "C. This is the Anwser ```[\"California\", \"Illinois\", \"North Carolina\", \"Texas\", \"Georgia\", \"Washington D.C.\"] ```"
   ]
  },
  {
   "cell_type": "markdown",
   "id": "6926da16",
   "metadata": {
    "id": "6926da16"
   },
   "source": [
    "### Default Settings: List slicing"
   ]
  },
  {
   "cell_type": "markdown",
   "id": "0db307a6",
   "metadata": {
    "id": "0db307a6"
   },
   "source": [
    "It might be useful to take out every even indexed element from a list.\n",
    "\n",
    "There is an optional arugment we can use when slicing a list, the step.\n",
    "In general we can slice by using ```list[start: end: step]``` where the default (what is used when it isnt specified) of step is 1."
   ]
  },
  {
   "cell_type": "code",
   "execution_count": 14,
   "id": "3d0d5302",
   "metadata": {
    "colab": {
     "base_uri": "https://localhost:8080/"
    },
    "executionInfo": {
     "elapsed": 62,
     "status": "ok",
     "timestamp": 1749646431476,
     "user": {
      "displayName": "Theron White",
      "userId": "14734207447502985845"
     },
     "user_tz": 240
    },
    "id": "3d0d5302",
    "outputId": "5aaa41f6-c32d-4ec8-c840-1e02869b76fb"
   },
   "outputs": [
    {
     "data": {
      "text/plain": [
       "['California', 'North Carolina', 'Georgia']"
      ]
     },
     "execution_count": 14,
     "metadata": {},
     "output_type": "execute_result"
    }
   ],
   "source": [
    "School_locations = [\"California\", \"Illinois\", \"North Carolina\", \"Texas\", \"Georgia\", \"Washington D.C.\"]\n",
    "\n",
    "School_locations[::2]\n"
   ]
  },
  {
   "cell_type": "markdown",
   "id": "2Ry5Q0zVUvoz",
   "metadata": {
    "id": "2Ry5Q0zVUvoz"
   },
   "source": [
    "What do you think the following will output?\n",
    "```python\n",
    "School_locations[:3:3]\n",
    "```"
   ]
  },
  {
   "cell_type": "markdown",
   "id": "ca9ca0f7",
   "metadata": {
    "id": "ca9ca0f7"
   },
   "source": [
    "### Operations and manipulation on lists\n",
    "\n",
    "\n",
    " - We can insert items into lists!\n",
    "     - at either end\n",
    "     - in the middle\n",
    "         \n",
    " - Count how many items have a specific value\n",
    "\n",
    "\n",
    " - Sort elements\n",
    "  "
   ]
  },
  {
   "cell_type": "markdown",
   "id": "dbc8a2dd",
   "metadata": {
    "id": "dbc8a2dd"
   },
   "source": [
    "How do we do this? By using methods. We already saw string methods! These can be extended to lists too.\n",
    "\n",
    "*Methods* are particular built-in functions that work on objects in Python. There are specific methods that work for all *list* objects!\n",
    "\n",
    "\n",
    "\n",
    "Methods take the form\n",
    "```python\n",
    "list.method()\n",
    "```\n",
    "\n",
    "\n",
    "Built-in functions can also be applied to objects in Python. Recall they take the form\n",
    "\n",
    "```python\n",
    "function_name(list)\n",
    "```\n"
   ]
  },
  {
   "cell_type": "markdown",
   "id": "020bf14a",
   "metadata": {
    "id": "020bf14a"
   },
   "source": [
    "### Appending to a list"
   ]
  },
  {
   "cell_type": "code",
   "execution_count": 1,
   "id": "7cd62a2c",
   "metadata": {
    "colab": {
     "base_uri": "https://localhost:8080/"
    },
    "executionInfo": {
     "elapsed": 35,
     "status": "ok",
     "timestamp": 1749646155951,
     "user": {
      "displayName": "Theron White",
      "userId": "14734207447502985845"
     },
     "user_tz": 240
    },
    "id": "7cd62a2c",
    "outputId": "d5ca4dc9-6ffc-4ee0-b8b1-1bcbd6883208"
   },
   "outputs": [
    {
     "data": {
      "text/plain": [
       "['California',\n",
       " 'Illinois',\n",
       " 'North Carolina',\n",
       " 'Texas',\n",
       " 'Georgia',\n",
       " 'Washington D.C.',\n",
       " 'Michigan']"
      ]
     },
     "execution_count": 1,
     "metadata": {},
     "output_type": "execute_result"
    }
   ],
   "source": [
    "#you can append an item to the end of a list\n",
    "\n",
    "\n",
    "School_locations = [\"California\", \"Illinois\", \"North Carolina\", \"Texas\", \"Georgia\", \"Washington D.C.\"]\n",
    "\n",
    "School_locations.append('Michigan')\n",
    "School_locations"
   ]
  },
  {
   "cell_type": "code",
   "execution_count": 15,
   "id": "72abaa62",
   "metadata": {
    "id": "72abaa62"
   },
   "outputs": [
    {
     "data": {
      "text/plain": [
       "['California',\n",
       " 'Illinois',\n",
       " 'North Carolina',\n",
       " 'Texas',\n",
       " 'tomato',\n",
       " 'Georgia',\n",
       " 'Washington D.C.']"
      ]
     },
     "execution_count": 15,
     "metadata": {},
     "output_type": "execute_result"
    }
   ],
   "source": [
    "#Or insert a value at a particular index\n",
    "School_locations.insert(4,'tomato')\n",
    "School_locations"
   ]
  },
  {
   "cell_type": "markdown",
   "id": "d7c7faea",
   "metadata": {
    "id": "d7c7faea"
   },
   "source": [
    "Note we didn't assign `School_locations`, but this automatically changes the object.\n",
    "\n",
    "Let's make a copy of our list so we can see how this works."
   ]
  },
  {
   "cell_type": "code",
   "execution_count": 16,
   "id": "8f218c77",
   "metadata": {
    "id": "8f218c77",
    "scrolled": true
   },
   "outputs": [
    {
     "data": {
      "text/plain": [
       "['California',\n",
       " 'Illinois',\n",
       " 'North Carolina',\n",
       " 'Texas',\n",
       " 'tomato',\n",
       " 'Georgia',\n",
       " 'Washington D.C.']"
      ]
     },
     "execution_count": 16,
     "metadata": {},
     "output_type": "execute_result"
    }
   ],
   "source": [
    "School_location_og = School_locations.copy()\n",
    "School_location_og"
   ]
  },
  {
   "cell_type": "markdown",
   "id": "NrNBV7Y2m0dX",
   "metadata": {
    "id": "NrNBV7Y2m0dX"
   },
   "source": [
    "We can append something else to our list. Note, even though the list contains only strings, I can append an integer as lists accept any data type."
   ]
  },
  {
   "cell_type": "code",
   "execution_count": 17,
   "id": "48772b7a",
   "metadata": {
    "id": "48772b7a"
   },
   "outputs": [
    {
     "data": {
      "text/plain": [
       "['California',\n",
       " 'Illinois',\n",
       " 'North Carolina',\n",
       " 'Texas',\n",
       " 'tomato',\n",
       " 'Georgia',\n",
       " 'Washington D.C.',\n",
       " 2023]"
      ]
     },
     "execution_count": 17,
     "metadata": {},
     "output_type": "execute_result"
    }
   ],
   "source": [
    "School_locations.append(2023)\n",
    "School_locations"
   ]
  },
  {
   "cell_type": "markdown",
   "id": "HB6AsjyTnEiN",
   "metadata": {
    "id": "HB6AsjyTnEiN"
   },
   "source": [
    "This does not change our original copy of the list."
   ]
  },
  {
   "cell_type": "code",
   "execution_count": 18,
   "id": "4e09a91a",
   "metadata": {
    "id": "4e09a91a"
   },
   "outputs": [
    {
     "data": {
      "text/plain": [
       "['California',\n",
       " 'Illinois',\n",
       " 'North Carolina',\n",
       " 'Texas',\n",
       " 'tomato',\n",
       " 'Georgia',\n",
       " 'Washington D.C.']"
      ]
     },
     "execution_count": 18,
     "metadata": {},
     "output_type": "execute_result"
    }
   ],
   "source": [
    "School_location_og"
   ]
  },
  {
   "cell_type": "markdown",
   "id": "f8e56615",
   "metadata": {
    "id": "f8e56615"
   },
   "source": [
    "### How do we find methods?"
   ]
  },
  {
   "cell_type": "markdown",
   "id": "8cf8ca32",
   "metadata": {
    "id": "8cf8ca32"
   },
   "source": [
    " - Use online documentation!\n",
    "\n",
    "\n",
    "https://docs.python.org/3/tutorial/datastructures.html\n",
    "\n",
    "    \n",
    " - Use built-in function ```dir()```   "
   ]
  },
  {
   "cell_type": "code",
   "execution_count": 5,
   "id": "4fd1469f",
   "metadata": {
    "colab": {
     "base_uri": "https://localhost:8080/"
    },
    "executionInfo": {
     "elapsed": 69,
     "status": "ok",
     "timestamp": 1749646494953,
     "user": {
      "displayName": "Theron White",
      "userId": "14734207447502985845"
     },
     "user_tz": 240
    },
    "id": "4fd1469f",
    "outputId": "a145e9b6-ec73-40c8-f0c5-3f9a31e8c819"
   },
   "outputs": [
    {
     "name": "stdout",
     "output_type": "stream",
     "text": [
      "['__add__', '__class__', '__class_getitem__', '__contains__', '__delattr__', '__delitem__', '__dir__', '__doc__', '__eq__', '__format__', '__ge__', '__getattribute__', '__getitem__', '__getstate__', '__gt__', '__hash__', '__iadd__', '__imul__', '__init__', '__init_subclass__', '__iter__', '__le__', '__len__', '__lt__', '__mul__', '__ne__', '__new__', '__reduce__', '__reduce_ex__', '__repr__', '__reversed__', '__rmul__', '__setattr__', '__setitem__', '__sizeof__', '__str__', '__subclasshook__', 'append', 'clear', 'copy', 'count', 'extend', 'index', 'insert', 'pop', 'remove', 'reverse', 'sort']\n",
      "['__add__', '__class__', '__class_getitem__', '__contains__', '__delattr__', '__delitem__', '__dir__', '__doc__', '__eq__', '__format__', '__ge__', '__getattribute__', '__getitem__', '__getstate__', '__gt__', '__hash__', '__iadd__', '__imul__', '__init__', '__init_subclass__', '__iter__', '__le__', '__len__', '__lt__', '__mul__', '__ne__', '__new__', '__reduce__', '__reduce_ex__', '__repr__', '__reversed__', '__rmul__', '__setattr__', '__setitem__', '__sizeof__', '__str__', '__subclasshook__', 'append', 'clear', 'copy', 'count', 'extend', 'index', 'insert', 'pop', 'remove', 'reverse', 'sort']\n"
     ]
    }
   ],
   "source": [
    "print(dir(School_locations))\n",
    "\n",
    "print(dir(list))"
   ]
  },
  {
   "cell_type": "markdown",
   "id": "720dff71",
   "metadata": {
    "id": "720dff71"
   },
   "source": [
    "A common built-in function:"
   ]
  },
  {
   "cell_type": "code",
   "execution_count": 19,
   "id": "a1adeb24",
   "metadata": {
    "id": "a1adeb24"
   },
   "outputs": [
    {
     "data": {
      "text/plain": [
       "8"
      ]
     },
     "execution_count": 19,
     "metadata": {},
     "output_type": "execute_result"
    }
   ],
   "source": [
    "len(School_locations)"
   ]
  },
  {
   "cell_type": "markdown",
   "id": "452419b2",
   "metadata": {
    "id": "452419b2"
   },
   "source": [
    "###  ✏ <mark style=\"background-color: Thistle\"> Exercise: </mark>\n"
   ]
  },
  {
   "cell_type": "markdown",
   "id": "0d743b88",
   "metadata": {
    "id": "0d743b88"
   },
   "source": [
    "Create a list with at least 4 items. (Recall items can be a string, int, float)\n",
    "\n",
    "With this list, perform the following:"
   ]
  },
  {
   "cell_type": "code",
   "execution_count": 39,
   "id": "2a95e3da",
   "metadata": {
    "id": "2a95e3da"
   },
   "outputs": [],
   "source": [
    "Rand_items = ['Kamare', 'UChicago', 12395667, 'CAM', 3.14159]"
   ]
  },
  {
   "cell_type": "markdown",
   "id": "148397ef",
   "metadata": {
    "id": "148397ef"
   },
   "source": [
    "1. Remove elements 2 and 3"
   ]
  },
  {
   "cell_type": "code",
   "execution_count": 40,
   "id": "22788d40",
   "metadata": {
    "id": "22788d40"
   },
   "outputs": [
    {
     "data": {
      "text/plain": [
       "['Kamare', 'UChicago', 'CAM', 3.14159]"
      ]
     },
     "execution_count": 40,
     "metadata": {},
     "output_type": "execute_result"
    }
   ],
   "source": [
    "Rand_items = Rand_items[:2] + Rand_items[3:]\n",
    "Rand_items"
   ]
  },
  {
   "cell_type": "markdown",
   "id": "1c2892a8",
   "metadata": {
    "id": "1c2892a8"
   },
   "source": [
    "2. Append your favorite number to the end of the list\n",
    "\n"
   ]
  },
  {
   "cell_type": "code",
   "execution_count": 41,
   "id": "9cad7f07",
   "metadata": {
    "id": "9cad7f07"
   },
   "outputs": [],
   "source": [
    "Rand_items.append(7)\n"
   ]
  },
  {
   "cell_type": "markdown",
   "id": "e7f2d86e",
   "metadata": {
    "id": "e7f2d86e"
   },
   "source": [
    "\n",
    "\n",
    "3. Insert the string \"Math is fun\" at index 2"
   ]
  },
  {
   "cell_type": "code",
   "execution_count": 42,
   "id": "68428a15",
   "metadata": {
    "id": "68428a15"
   },
   "outputs": [],
   "source": [
    "Rand_items.insert(2, \"Math is fun\")"
   ]
  },
  {
   "cell_type": "markdown",
   "id": "8645eb8f",
   "metadata": {
    "id": "8645eb8f"
   },
   "source": [
    "4. Did your above operations change your original list, or create a copy?"
   ]
  },
  {
   "cell_type": "markdown",
   "id": "a7e1a60d",
   "metadata": {
    "id": "a7e1a60d"
   },
   "source": [
    "My operations above changed my original list."
   ]
  },
  {
   "cell_type": "markdown",
   "id": "e950619f",
   "metadata": {
    "id": "e950619f"
   },
   "source": [
    "5. (optional) Given list ```number_list = [1,2,3,4,5,6,7]```, create a new list ```new_list = [6,4,2]``` in 2 lines of code. You may have to use list methods."
   ]
  },
  {
   "cell_type": "code",
   "execution_count": null,
   "id": "77b17be1",
   "metadata": {
    "id": "77b17be1"
   },
   "outputs": [
    {
     "data": {
      "text/plain": [
       "[6, 4, 2]"
      ]
     },
     "execution_count": 47,
     "metadata": {},
     "output_type": "execute_result"
    }
   ],
   "source": [
    "number_list = [1,2,3,4,5,6,7]\n",
    "new_list = number_list[-2::-2]\n"
   ]
  },
  {
   "cell_type": "markdown",
   "id": "ac4ed367",
   "metadata": {
    "id": "ac4ed367"
   },
   "source": [
    "## Grouping Data using Arrays\n",
    "\n",
    "Arrays (from the NumPy library) are another way to collect data. Like a list, they contain a sequence of values. But, unlike a list, all elements of an array must have the same data type. This is because NumPy arrays were built for efficient computation. They can perform operations on all elements in one step. They can also do elementwise computation. This means that, for example, if you add two arrays together, the result will be an array where the element at each index is the sum of the elements at the index in the two original arrays. For this reason, when two arrays are added (or subtracted, multiplied, or divided) they must have the same size."
   ]
  },
  {
   "cell_type": "markdown",
   "id": "c9c3aab8",
   "metadata": {
    "id": "c9c3aab8"
   },
   "source": [
    "### Lists vs Arrays\n",
    "\n",
    "- Lists are more flexible\n",
    "    - Can contain elements of different types\n",
    "    \n",
    "\n",
    "- NumPy arrays have some advantages\n",
    "    - size - they take up less computer memory than lists\n",
    "    - performance - faster access than lists\n",
    "    - functionality - linear algebra functions built-in\n",
    "    - can be multiple dimensions"
   ]
  },
  {
   "cell_type": "markdown",
   "id": "f4405380",
   "metadata": {
    "id": "f4405380"
   },
   "source": [
    "### Creating an array\n",
    "\n",
    "\n",
    "First import the NumPy library. We do this using an import statement and we give NumPy the alias np. This makes it so that any time we want to access the NumPy library, we only need to type np.\n",
    "\n",
    "We can create an array using `np.array()` which takes in a list of values of the same data type. Below is an example of writing the import statement and creating an empty array. The array is empty because the list has no elements.\n",
    "\n",
    "```python\n",
    "import numpy as np\n",
    "\n",
    "np.array([])\n",
    "```"
   ]
  },
  {
   "cell_type": "markdown",
   "id": "UBYg4I-2mE9f",
   "metadata": {
    "id": "UBYg4I-2mE9f"
   },
   "source": [
    "(If you get an error when running the previous cell, return to the \"Installation Instructions\" document and ensure that you have properly installed NumPy.)"
   ]
  },
  {
   "cell_type": "markdown",
   "id": "Lrf0ZgO_ytcI",
   "metadata": {
    "id": "Lrf0ZgO_ytcI"
   },
   "source": [
    "Now, let's actually import numpy and create an array with two elements."
   ]
  },
  {
   "cell_type": "code",
   "execution_count": 54,
   "id": "d21b606a",
   "metadata": {},
   "outputs": [
    {
     "name": "stdout",
     "output_type": "stream",
     "text": [
      "C:\\Users\\Will\\AppData\\Local\\Microsoft\\WindowsApps\\PythonSoftwareFoundation.Python.3.11_qbz5n2kfra8p0\\python.exe\n"
     ]
    }
   ],
   "source": [
    "import sys\n",
    "print(sys.executable)\n"
   ]
  },
  {
   "cell_type": "code",
   "execution_count": 1,
   "id": "2b99d833",
   "metadata": {
    "colab": {
     "base_uri": "https://localhost:8080/"
    },
    "executionInfo": {
     "elapsed": 23,
     "status": "ok",
     "timestamp": 1749647040987,
     "user": {
      "displayName": "Theron White",
      "userId": "14734207447502985845"
     },
     "user_tz": 240
    },
    "id": "2b99d833",
    "outputId": "aa55fcfd-ce52-43bc-f5b2-7b0e59f5429f"
   },
   "outputs": [
    {
     "data": {
      "text/plain": [
       "array([1, 2])"
      ]
     },
     "execution_count": 1,
     "metadata": {},
     "output_type": "execute_result"
    }
   ],
   "source": [
    "import numpy as np\n",
    "\n",
    "np.array([1,2])"
   ]
  },
  {
   "cell_type": "markdown",
   "id": "KkzTm0yIy1c3",
   "metadata": {
    "id": "KkzTm0yIy1c3"
   },
   "source": [
    "Below, we create a list that contains integers and a string."
   ]
  },
  {
   "cell_type": "code",
   "execution_count": 2,
   "id": "9e43a0f7",
   "metadata": {
    "colab": {
     "base_uri": "https://localhost:8080/"
    },
    "executionInfo": {
     "elapsed": 45,
     "status": "ok",
     "timestamp": 1749647068791,
     "user": {
      "displayName": "Theron White",
      "userId": "14734207447502985845"
     },
     "user_tz": 240
    },
    "id": "9e43a0f7",
    "outputId": "56638fc0-51bc-47d8-88e4-8553de840570"
   },
   "outputs": [
    {
     "name": "stdout",
     "output_type": "stream",
     "text": [
      "[22, 38, 26, 35, 35, 'tomato']\n"
     ]
    }
   ],
   "source": [
    "tomato_list = [22, 38, 26, 35, 35,'tomato']\n",
    "print(tomato_list)"
   ]
  },
  {
   "cell_type": "markdown",
   "id": "2y80a-pGy-lk",
   "metadata": {
    "id": "2y80a-pGy-lk"
   },
   "source": [
    "Let's see what happens when we try to make an array from this list."
   ]
  },
  {
   "cell_type": "code",
   "execution_count": 3,
   "id": "10d10106",
   "metadata": {
    "colab": {
     "base_uri": "https://localhost:8080/"
    },
    "executionInfo": {
     "elapsed": 15,
     "status": "ok",
     "timestamp": 1749647077719,
     "user": {
      "displayName": "Theron White",
      "userId": "14734207447502985845"
     },
     "user_tz": 240
    },
    "id": "10d10106",
    "outputId": "b40784a2-fec2-4d99-f757-0896c88e90f8"
   },
   "outputs": [
    {
     "name": "stdout",
     "output_type": "stream",
     "text": [
      "['22' '38' '26' '35' '35' 'tomato']\n"
     ]
    }
   ],
   "source": [
    "tomato_array = np.array([22, 38, 26, 35, 35,'tomato'])\n",
    "print(tomato_array)"
   ]
  },
  {
   "cell_type": "markdown",
   "id": "8b177086",
   "metadata": {
    "id": "8b177086"
   },
   "source": [
    "A list can have different types, but an array will default to one. So you can see all ints were changed to strings (notice the single quotes around the numbers).\n",
    "\n",
    "\n",
    "An array will make sure everything is the same type."
   ]
  },
  {
   "cell_type": "markdown",
   "id": "97d2b90e",
   "metadata": {
    "id": "97d2b90e"
   },
   "source": [
    "### Exploring arrays"
   ]
  },
  {
   "cell_type": "code",
   "execution_count": 5,
   "id": "20e80e63",
   "metadata": {
    "colab": {
     "base_uri": "https://localhost:8080/"
    },
    "executionInfo": {
     "elapsed": 56,
     "status": "ok",
     "timestamp": 1749647210335,
     "user": {
      "displayName": "Theron White",
      "userId": "14734207447502985845"
     },
     "user_tz": 240
    },
    "id": "20e80e63",
    "outputId": "35448427-8514-477f-d9b5-a82b416cd8a6"
   },
   "outputs": [
    {
     "name": "stdout",
     "output_type": "stream",
     "text": [
      "<class 'numpy.ndarray'>\n"
     ]
    }
   ],
   "source": [
    "#create an array - converting a Python list to a numpy array\n",
    "prime50_array = np.array([2, 3, 5, 7, 11, 13, 17, 19, 23, 29, 31, 37, 41, 43, 47])\n",
    "\n",
    "print(type(prime50_array))"
   ]
  },
  {
   "cell_type": "markdown",
   "id": "184ef115",
   "metadata": {
    "id": "184ef115"
   },
   "source": [
    "Extraction and slicing of one dimensional arrays work exactly the same as lists."
   ]
  },
  {
   "cell_type": "code",
   "execution_count": 6,
   "id": "9ea8ea77",
   "metadata": {
    "id": "9ea8ea77"
   },
   "outputs": [
    {
     "name": "stdout",
     "output_type": "stream",
     "text": [
      "3\n"
     ]
    },
    {
     "data": {
      "text/plain": [
       "array([3])"
      ]
     },
     "execution_count": 6,
     "metadata": {},
     "output_type": "execute_result"
    }
   ],
   "source": [
    "print(prime50_array[1]) #extracts second element\n",
    "\n",
    "prime50_array[1:2] #starting at index 1 and up to (but excluding) index 2"
   ]
  },
  {
   "cell_type": "markdown",
   "id": "41711311",
   "metadata": {
    "id": "41711311"
   },
   "source": [
    "###  ✏ <mark style=\"background-color: Thistle\"> Code Comprehension: </mark>\n",
    "\n",
    "Will the following give the same or different outputs?\n",
    "\n",
    "```python\n",
    "prime50_array[1::2]\n",
    "\n",
    "prime50_array[::2]\n",
    "```"
   ]
  },
  {
   "cell_type": "markdown",
   "id": "2197e6b6",
   "metadata": {
    "id": "2197e6b6"
   },
   "source": [
    "The following will give different outputs since python uses zero based indexing and prime50_array starts at 1 while the other starts at 0."
   ]
  },
  {
   "cell_type": "markdown",
   "id": "90a34e66",
   "metadata": {
    "id": "90a34e66"
   },
   "source": [
    "### Arrays have attributes\n",
    "\n",
    "Attributes are characteristics of an object. We can view an object's attributes by using the dot operator `.` similarly to when we used methods by using the syntax `object.method()`. However, to access an attribute, we don't use parentheses.\n",
    "(See https://numpy.org/doc/stable/reference/generated/numpy.ndarray.html)\n",
    "\n",
    "Two commonly used attributes of arrays are size, which we can access using `.size`, and shape, accessed using `.shape`."
   ]
  },
  {
   "cell_type": "code",
   "execution_count": 7,
   "id": "dce95ddd",
   "metadata": {
    "id": "dce95ddd"
   },
   "outputs": [
    {
     "data": {
      "text/plain": [
       "15"
      ]
     },
     "execution_count": 7,
     "metadata": {},
     "output_type": "execute_result"
    }
   ],
   "source": [
    "prime50_array.size"
   ]
  },
  {
   "cell_type": "code",
   "execution_count": 8,
   "id": "223d5c1c",
   "metadata": {
    "id": "223d5c1c"
   },
   "outputs": [
    {
     "data": {
      "text/plain": [
       "(15,)"
      ]
     },
     "execution_count": 8,
     "metadata": {},
     "output_type": "execute_result"
    }
   ],
   "source": [
    "prime50_array.shape"
   ]
  },
  {
   "cell_type": "markdown",
   "id": "7b16cffd",
   "metadata": {
    "id": "7b16cffd"
   },
   "source": [
    "### Arrays have useful methods\n",
    "\n",
    "Like lists, there are a lot of useful methods we can use on array objects. Here are a couple:\n",
    "\n",
    " -  .sum()\n",
    "    \n",
    " -  .mean()\n",
    "\n",
    " -  .nonzero()\n",
    "\n",
    "\n",
    "(see the documentation for a complete list: https://numpy.org/doc/stable/reference/generated/numpy.ndarray.html)\n"
   ]
  },
  {
   "cell_type": "code",
   "execution_count": 9,
   "id": "2c4ca0bb",
   "metadata": {
    "id": "2c4ca0bb"
   },
   "outputs": [
    {
     "name": "stdout",
     "output_type": "stream",
     "text": [
      "328\n"
     ]
    }
   ],
   "source": [
    "print(prime50_array.sum())\n",
    "#We cannot always sum a list because a list can have different data types!\n"
   ]
  },
  {
   "cell_type": "markdown",
   "id": "2c96ffed",
   "metadata": {
    "id": "2c96ffed"
   },
   "source": [
    "## NumPy also has many useful built-in functions to use on arrays!\n",
    "\n",
    "\n",
    "Notice there is often more than one way to do a common operation!"
   ]
  },
  {
   "cell_type": "code",
   "execution_count": 10,
   "id": "1e414ca8",
   "metadata": {
    "id": "1e414ca8"
   },
   "outputs": [
    {
     "name": "stdout",
     "output_type": "stream",
     "text": [
      "328\n",
      "328\n",
      "5\n",
      "21.866666666666667\n",
      "21.866666666666667\n"
     ]
    }
   ],
   "source": [
    "print(prime50_array.sum()) #sum method\n",
    "\n",
    "print(np.sum(prime50_array)) #sum function (from NumPy library)\n",
    "\n",
    "print(np.count_nonzero(np.array([1,2,0,2,1,0,2])))\n",
    "\n",
    "print(prime50_array.mean()) #mean method\n",
    "\n",
    "print(np.mean(prime50_array)) #mean function"
   ]
  },
  {
   "cell_type": "markdown",
   "id": "5af09746",
   "metadata": {
    "id": "5af09746"
   },
   "source": [
    "### Printing Formatted Code\n",
    "\n",
    "\n",
    "We often find that we want to format the output of our code in a nice way. This includes printing string and code output. In Python, there are multiple ways to do this. Two options are listed below. Consider our prime50_array for this exercise."
   ]
  },
  {
   "cell_type": "code",
   "execution_count": 11,
   "id": "fe92cf74",
   "metadata": {
    "id": "fe92cf74"
   },
   "outputs": [
    {
     "data": {
      "text/plain": [
       "array([ 2,  3,  5,  7, 11, 13, 17, 19, 23, 29, 31, 37, 41, 43, 47])"
      ]
     },
     "execution_count": 11,
     "metadata": {},
     "output_type": "execute_result"
    }
   ],
   "source": [
    "prime50_array"
   ]
  },
  {
   "cell_type": "code",
   "execution_count": 11,
   "id": "1f5e4d36",
   "metadata": {
    "colab": {
     "base_uri": "https://localhost:8080/"
    },
    "executionInfo": {
     "elapsed": 32,
     "status": "ok",
     "timestamp": 1749647680093,
     "user": {
      "displayName": "Theron White",
      "userId": "14734207447502985845"
     },
     "user_tz": 240
    },
    "id": "1f5e4d36",
    "outputId": "e4fb920e-5700-4db0-a115-60476aae11d9"
   },
   "outputs": [
    {
     "name": "stdout",
     "output_type": "stream",
     "text": [
      "array: [ 2  3  5  7 11 13 17 19 23 29 31 37 41 43 47]\n",
      "max: 47\n",
      "Maximum prime under 50 is 47\n"
     ]
    }
   ],
   "source": [
    "#Option 1: print string and code seperated by a comma\n",
    "print(\"array:\", prime50_array)\n",
    "\n",
    "print(\"max:\", np.max(prime50_array)) #we can apply functions directly to code output\n",
    "\n",
    "\n",
    "#Option 2: print string and code by converting everything to a string and concatenating\n",
    "print(\"Maximum prime under 50 is \" + str(np.max(prime50_array)))"
   ]
  },
  {
   "cell_type": "markdown",
   "id": "e1f13802",
   "metadata": {
    "id": "e1f13802"
   },
   "source": [
    "### ✏ <mark style=\"background-color: Thistle\"> Code Comprehension: </mark>\n",
    "\n",
    "Take the last output and add a period in the code output."
   ]
  },
  {
   "cell_type": "code",
   "execution_count": 12,
   "id": "df449a32",
   "metadata": {
    "colab": {
     "base_uri": "https://localhost:8080/"
    },
    "executionInfo": {
     "elapsed": 69,
     "status": "ok",
     "timestamp": 1749647775088,
     "user": {
      "displayName": "Theron White",
      "userId": "14734207447502985845"
     },
     "user_tz": 240
    },
    "id": "df449a32",
    "outputId": "03c32537-0883-4533-bf28-37044a8f685c"
   },
   "outputs": [
    {
     "name": "stdout",
     "output_type": "stream",
     "text": [
      "array: [ 2  3  5  7 11 13 17 19 23 29 31 37 41 43 47]\n",
      "max: 47 .\n"
     ]
    }
   ],
   "source": [
    "print(\"array:\", prime50_array)\n",
    "\n",
    "print(\"max:\", np.max(prime50_array), \".\")"
   ]
  },
  {
   "cell_type": "markdown",
   "id": "51b9c8b2",
   "metadata": {
    "id": "51b9c8b2"
   },
   "source": [
    "### We can easily create arrays by specifying a range.\n",
    "\n",
    "Calling ```np.arange()``` creates a half-closed interval \\[start,end) where the end value is not included.\n",
    "\n"
   ]
  },
  {
   "cell_type": "code",
   "execution_count": 13,
   "id": "dccd35d6",
   "metadata": {
    "id": "dccd35d6"
   },
   "outputs": [
    {
     "data": {
      "text/plain": [
       "array([4, 5, 6, 7, 8, 9])"
      ]
     },
     "execution_count": 13,
     "metadata": {},
     "output_type": "execute_result"
    }
   ],
   "source": [
    "np.arange(4,10)"
   ]
  },
  {
   "cell_type": "code",
   "execution_count": 14,
   "id": "9a14590c",
   "metadata": {
    "id": "9a14590c"
   },
   "outputs": [
    {
     "name": "stdout",
     "output_type": "stream",
     "text": [
      "[0 1 2 3 4 5 6 7 8 9]\n"
     ]
    }
   ],
   "source": [
    "#if you leave out the start, the default is zero\n",
    "print(np.arange(10))"
   ]
  },
  {
   "cell_type": "markdown",
   "id": "728713af",
   "metadata": {
    "id": "728713af"
   },
   "source": [
    "We can specify a step size we want to increment by. If we leave out the step, the default is one.\n"
   ]
  },
  {
   "cell_type": "code",
   "execution_count": 15,
   "id": "00504290",
   "metadata": {
    "id": "00504290"
   },
   "outputs": [
    {
     "name": "stdout",
     "output_type": "stream",
     "text": [
      "[ 1  3  5  7  9 11 13 15 17 19 21 23 25 27 29]\n"
     ]
    }
   ],
   "source": [
    "print(np.arange(1,31,2))"
   ]
  },
  {
   "cell_type": "markdown",
   "id": "acfa7988",
   "metadata": {
    "id": "acfa7988"
   },
   "source": [
    "## Another reason why arrays are useful!\n",
    "\n",
    "Elementwise operations!"
   ]
  },
  {
   "cell_type": "code",
   "execution_count": null,
   "id": "26e5f840",
   "metadata": {
    "id": "26e5f840"
   },
   "outputs": [],
   "source": [
    "array_1 = np.arange(10)\n",
    "array_2 = np.array([1,2,3,4,5,6,7,8,9,10])\n",
    "difference_array = array_1 - array_2\n",
    "difference_array"
   ]
  },
  {
   "cell_type": "markdown",
   "id": "76c61a4d",
   "metadata": {
    "id": "76c61a4d"
   },
   "source": [
    "## ✏ <mark style=\"background-color: Thistle\"> Code comprehension: Multiple Choice </mark>"
   ]
  },
  {
   "cell_type": "markdown",
   "id": "4dea1f1b",
   "metadata": {
    "id": "4dea1f1b"
   },
   "source": [
    "#### What will be printed?\n",
    "\n",
    "```python\n",
    "import numpy as np\n",
    "a = np.array([1,2,3,5,8])\n",
    "b = np.array([0,3,4,2,1])\n",
    "c = a + b\n",
    "c = c*a\n",
    "print (c[2])\n",
    "```\n",
    "\n",
    "A. 7\n",
    "\n",
    "B. 12\n",
    "\n",
    "C. 10\n",
    "\n",
    "D. This is the Anwser. 21\n",
    "\n",
    "E. 28"
   ]
  },
  {
   "cell_type": "markdown",
   "id": "98e1a5d6",
   "metadata": {
    "id": "98e1a5d6"
   },
   "source": [
    "## ✏ <mark style=\"background-color: Thistle\"> Code comprehension: Multiple Choice </mark>"
   ]
  },
  {
   "cell_type": "markdown",
   "id": "cd9bc367",
   "metadata": {
    "id": "cd9bc367"
   },
   "source": [
    "What will be output for the following code?\n",
    "\n",
    "```python\n",
    " number_array = np.array([1,2,3,5,8])\n",
    " number_array = number_array + 1\n",
    " print(number_array[1])\n",
    "```\n",
    "\n",
    " A. 0\n",
    "    \n",
    " B. 1\n",
    "\n",
    " C. 2\n",
    "    \n",
    " D. This is the Anwser. 3"
   ]
  },
  {
   "cell_type": "markdown",
   "id": "J-aBvKRph1O9",
   "metadata": {
    "id": "J-aBvKRph1O9"
   },
   "source": [
    "### We may have higher dimensional arrays.\n",
    "\n",
    "\n",
    "Organized into rows and columns"
   ]
  },
  {
   "cell_type": "code",
   "execution_count": 16,
   "id": "GMxOGxF2h51-",
   "metadata": {
    "id": "GMxOGxF2h51-"
   },
   "outputs": [
    {
     "name": "stdout",
     "output_type": "stream",
     "text": [
      "[[1 2 3]\n",
      " [4 5 6]]\n"
     ]
    }
   ],
   "source": [
    "arr_2d = np.array([[1, 2, 3], [4, 5, 6]]) #specify first row then second\n",
    "\n",
    "print(arr_2d)"
   ]
  },
  {
   "cell_type": "code",
   "execution_count": 17,
   "id": "w_fd8ipyh8bP",
   "metadata": {
    "id": "w_fd8ipyh8bP"
   },
   "outputs": [
    {
     "data": {
      "text/plain": [
       "(2, 3)"
      ]
     },
     "execution_count": 17,
     "metadata": {},
     "output_type": "execute_result"
    }
   ],
   "source": [
    "arr_2d.shape #outputs (#rows, #columns)\n"
   ]
  },
  {
   "cell_type": "markdown",
   "id": "vuW-IbF1h8l4",
   "metadata": {
    "id": "vuW-IbF1h8l4"
   },
   "source": [
    "\n",
    "We can reshape our arrays"
   ]
  },
  {
   "cell_type": "code",
   "execution_count": 18,
   "id": "vnbWUx9XiBTc",
   "metadata": {
    "id": "vnbWUx9XiBTc"
   },
   "outputs": [
    {
     "data": {
      "text/plain": [
       "(6,)"
      ]
     },
     "execution_count": 18,
     "metadata": {},
     "output_type": "execute_result"
    }
   ],
   "source": [
    "reshaped_arr = np.reshape(arr_2d, 6)\n",
    "\n",
    "reshaped_arr.shape"
   ]
  },
  {
   "cell_type": "code",
   "execution_count": 19,
   "id": "FLreLIxeiBfq",
   "metadata": {
    "id": "FLreLIxeiBfq"
   },
   "outputs": [
    {
     "data": {
      "text/plain": [
       "(3, 2)"
      ]
     },
     "execution_count": 19,
     "metadata": {},
     "output_type": "execute_result"
    }
   ],
   "source": [
    "np.reshape(arr_2d, (3,-1)) # the unspecified value is inferred to be 2\n",
    "\n",
    "np.reshape(arr_2d, (3,-1)).shape"
   ]
  },
  {
   "cell_type": "code",
   "execution_count": 20,
   "id": "INpE5OVtiF_f",
   "metadata": {
    "id": "INpE5OVtiF_f"
   },
   "outputs": [
    {
     "data": {
      "text/plain": [
       "array([3, 6])"
      ]
     },
     "execution_count": 20,
     "metadata": {},
     "output_type": "execute_result"
    }
   ],
   "source": [
    "arr_2d[:,2] #all of the rows, column at index 2\n"
   ]
  },
  {
   "cell_type": "code",
   "execution_count": 21,
   "id": "YeRxe4c9iGDU",
   "metadata": {
    "id": "YeRxe4c9iGDU"
   },
   "outputs": [
    {
     "data": {
      "text/plain": [
       "np.int64(2)"
      ]
     },
     "execution_count": 21,
     "metadata": {},
     "output_type": "execute_result"
    }
   ],
   "source": [
    "arr_2d[0,1] #element with row index 0 and column index 1"
   ]
  },
  {
   "cell_type": "markdown",
   "id": "e088cd19",
   "metadata": {
    "id": "e088cd19"
   },
   "source": [
    "## ✏ <mark style=\"background-color: Thistle\">Working with Arrays: Exercise</mark>\n",
    "\n",
    "Use the following array to answer the questions\n"
   ]
  },
  {
   "cell_type": "code",
   "execution_count": 26,
   "id": "512a6d39",
   "metadata": {
    "executionInfo": {
     "elapsed": 8,
     "status": "ok",
     "timestamp": 1749647971488,
     "user": {
      "displayName": "Theron White",
      "userId": "14734207447502985845"
     },
     "user_tz": 240
    },
    "id": "512a6d39"
   },
   "outputs": [],
   "source": [
    "random_number_array = np.array([32, 56, 78, 3, 15, 109, 13, 24, 58, 61, 90, 93, 45, 21, 46])"
   ]
  },
  {
   "cell_type": "markdown",
   "id": "4beae21b",
   "metadata": {
    "id": "4beae21b"
   },
   "source": [
    "1. Remove elements 2 and 3"
   ]
  },
  {
   "cell_type": "code",
   "execution_count": 32,
   "id": "2587b7cf",
   "metadata": {
    "id": "2587b7cf"
   },
   "outputs": [
    {
     "name": "stdout",
     "output_type": "stream",
     "text": [
      "[32 56 13 24 58 61 90 93 45 21 46]\n"
     ]
    }
   ],
   "source": [
    "random_number_array = np.delete(random_number_array, [2, 3])\n",
    "print(random_number_array)"
   ]
  },
  {
   "cell_type": "markdown",
   "id": "b95cd72c",
   "metadata": {
    "id": "b95cd72c"
   },
   "source": [
    "2. Use a method to find the minimum value in the array"
   ]
  },
  {
   "cell_type": "code",
   "execution_count": 31,
   "id": "40519cb1",
   "metadata": {
    "id": "40519cb1"
   },
   "outputs": [
    {
     "data": {
      "text/plain": [
       "np.int64(13)"
      ]
     },
     "execution_count": 31,
     "metadata": {},
     "output_type": "execute_result"
    }
   ],
   "source": [
    "min_value = np.min(random_number_array)\n",
    "min_value"
   ]
  },
  {
   "cell_type": "markdown",
   "id": "8451bd78",
   "metadata": {
    "id": "8451bd78"
   },
   "source": [
    "3. Find the 4th smallest element in the array"
   ]
  },
  {
   "cell_type": "code",
   "execution_count": 30,
   "id": "317e5bd1",
   "metadata": {
    "id": "317e5bd1"
   },
   "outputs": [
    {
     "data": {
      "text/plain": [
       "np.int64(24)"
      ]
     },
     "execution_count": 30,
     "metadata": {},
     "output_type": "execute_result"
    }
   ],
   "source": [
    "sorted_array = np.sort(random_number_array)\n",
    "fourth_smallest = sorted_array[3]\n",
    "fourth_smallest"
   ]
  },
  {
   "cell_type": "markdown",
   "id": "a67ee34b",
   "metadata": {
    "id": "a67ee34b"
   },
   "source": [
    "4. Create an array with 60 elements that corresponds to the 60 minutes in an hour."
   ]
  },
  {
   "cell_type": "code",
   "execution_count": 33,
   "id": "1b303728",
   "metadata": {
    "id": "1b303728"
   },
   "outputs": [
    {
     "name": "stdout",
     "output_type": "stream",
     "text": [
      "[ 0  1  2  3  4  5  6  7  8  9 10 11 12 13 14 15 16 17 18 19 20 21 22 23\n",
      " 24 25 26 27 28 29 30 31 32 33 34 35 36 37 38 39 40 41 42 43 44 45 46 47\n",
      " 48 49 50 51 52 53 54 55 56 57 58 59]\n"
     ]
    }
   ],
   "source": [
    "minutes_array = np.arange(60)\n",
    "print(minutes_array)"
   ]
  },
  {
   "cell_type": "markdown",
   "id": "6b6e9c7b",
   "metadata": {
    "id": "6b6e9c7b"
   },
   "source": [
    "5. Starting (and including) minute 4, extract every 5th element."
   ]
  },
  {
   "cell_type": "code",
   "execution_count": 35,
   "id": "62a6fabd",
   "metadata": {
    "id": "62a6fabd"
   },
   "outputs": [
    {
     "data": {
      "text/plain": [
       "array([ 4,  9, 14, 19, 24, 29, 34, 39, 44, 49, 54, 59])"
      ]
     },
     "execution_count": 35,
     "metadata": {},
     "output_type": "execute_result"
    }
   ],
   "source": [
    "extracted_minutes = minutes_array[4::5]\n",
    "extracted_minutes"
   ]
  },
  {
   "cell_type": "markdown",
   "id": "3b267930",
   "metadata": {
    "id": "3b267930"
   },
   "source": [
    "## Another Built-in Collection of Data: Dictionaries"
   ]
  },
  {
   "cell_type": "markdown",
   "id": "638ad525",
   "metadata": {
    "id": "638ad525"
   },
   "source": [
    "A **dictionary** is a set of \"key: value\" pairs where each key is unique.\n",
    "\n",
    "We can create a dictionary with curly brackets \"{}\"\n",
    "\n",
    "Entries of a dictionary are of the form \"key: value\"\n"
   ]
  },
  {
   "cell_type": "code",
   "execution_count": 36,
   "id": "33cdd952",
   "metadata": {
    "id": "33cdd952"
   },
   "outputs": [],
   "source": [
    "survey_dict = {0: \"Strongly Disagree\", 1: \"Disagree\", 2: \"No opinion\", 3: \"Agree\", 4: \"Strongly Agree\"}"
   ]
  },
  {
   "cell_type": "markdown",
   "id": "63b6486b",
   "metadata": {
    "id": "63b6486b"
   },
   "source": [
    "We can access values of a dictionary by their key. (This is why all keys must be unique!)"
   ]
  },
  {
   "cell_type": "code",
   "execution_count": 37,
   "id": "527c0d89",
   "metadata": {
    "id": "527c0d89"
   },
   "outputs": [
    {
     "data": {
      "text/plain": [
       "'Disagree'"
      ]
     },
     "execution_count": 37,
     "metadata": {},
     "output_type": "execute_result"
    }
   ],
   "source": [
    "survey_dict[1]"
   ]
  },
  {
   "cell_type": "markdown",
   "id": "78b99c06",
   "metadata": {
    "id": "78b99c06"
   },
   "source": [
    "Dictionaries are useful for storing and extracting data! Think of them like an address book where you look up someone's address by finding their name."
   ]
  },
  {
   "cell_type": "markdown",
   "id": "cc160bc5",
   "metadata": {
    "id": "cc160bc5"
   },
   "source": [
    "A few useful operations with dictionaries:\n",
    "\n",
    " - Add an entry\n",
    "\n",
    " - Delete an entry"
   ]
  },
  {
   "cell_type": "markdown",
   "id": "b3f52aad",
   "metadata": {
    "id": "b3f52aad"
   },
   "source": [
    "Add and delete pairs!"
   ]
  },
  {
   "cell_type": "code",
   "execution_count": 38,
   "id": "72c91f28",
   "metadata": {
    "id": "72c91f28"
   },
   "outputs": [],
   "source": [
    "del survey_dict[1]"
   ]
  },
  {
   "cell_type": "code",
   "execution_count": 39,
   "id": "3d4cd5cb",
   "metadata": {
    "id": "3d4cd5cb"
   },
   "outputs": [
    {
     "data": {
      "text/plain": [
       "{0: 'Strongly Disagree', 2: 'No opinion', 3: 'Agree', 4: 'Strongly Agree'}"
      ]
     },
     "execution_count": 39,
     "metadata": {},
     "output_type": "execute_result"
    }
   ],
   "source": [
    "survey_dict"
   ]
  },
  {
   "cell_type": "code",
   "execution_count": 40,
   "id": "c1fe0771",
   "metadata": {
    "id": "c1fe0771"
   },
   "outputs": [],
   "source": [
    "#this adds a key-value pair\n",
    "survey_dict['new_key'] = 'new value'"
   ]
  },
  {
   "cell_type": "code",
   "execution_count": 41,
   "id": "1ae2a3a5",
   "metadata": {
    "id": "1ae2a3a5"
   },
   "outputs": [
    {
     "data": {
      "text/plain": [
       "{0: 'Strongly Disagree',\n",
       " 2: 'No opinion',\n",
       " 3: 'Agree',\n",
       " 4: 'Strongly Agree',\n",
       " 'new_key': 'new value'}"
      ]
     },
     "execution_count": 41,
     "metadata": {},
     "output_type": "execute_result"
    }
   ],
   "source": [
    "survey_dict"
   ]
  },
  {
   "cell_type": "markdown",
   "id": "39e80e3d",
   "metadata": {
    "id": "39e80e3d"
   },
   "source": [
    "Note we can also determine if keys are contained in the dictionary"
   ]
  },
  {
   "cell_type": "code",
   "execution_count": 42,
   "id": "861541f6",
   "metadata": {
    "id": "861541f6"
   },
   "outputs": [
    {
     "data": {
      "text/plain": [
       "True"
      ]
     },
     "execution_count": 42,
     "metadata": {},
     "output_type": "execute_result"
    }
   ],
   "source": [
    "3 in survey_dict"
   ]
  },
  {
   "cell_type": "code",
   "execution_count": 43,
   "id": "f0f345f3",
   "metadata": {
    "id": "f0f345f3"
   },
   "outputs": [
    {
     "data": {
      "text/plain": [
       "False"
      ]
     },
     "execution_count": 43,
     "metadata": {},
     "output_type": "execute_result"
    }
   ],
   "source": [
    "\"Disagree\" in survey_dict"
   ]
  },
  {
   "cell_type": "code",
   "execution_count": 44,
   "id": "0b8eb258",
   "metadata": {
    "id": "0b8eb258"
   },
   "outputs": [
    {
     "data": {
      "text/plain": [
       "True"
      ]
     },
     "execution_count": 44,
     "metadata": {},
     "output_type": "execute_result"
    }
   ],
   "source": [
    "'new_key' in survey_dict"
   ]
  },
  {
   "cell_type": "markdown",
   "id": "61c75595",
   "metadata": {
    "id": "61c75595"
   },
   "source": [
    "Keep in mind, keys do not all need to be the same type, although it may make more sense to keep them that way.\n"
   ]
  },
  {
   "cell_type": "code",
   "execution_count": 45,
   "id": "01fe3704",
   "metadata": {
    "id": "01fe3704"
   },
   "outputs": [],
   "source": [
    "survey_dict_2 = {\"Strongly Disagree\": 0 , \"Disagree\": 1 , 2: \"No opinion\", 3: \"Agree\", 4: \"Strongly Agree\"}"
   ]
  },
  {
   "cell_type": "code",
   "execution_count": 46,
   "id": "9f61668d",
   "metadata": {
    "id": "9f61668d"
   },
   "outputs": [
    {
     "data": {
      "text/plain": [
       "1"
      ]
     },
     "execution_count": 46,
     "metadata": {},
     "output_type": "execute_result"
    }
   ],
   "source": [
    "survey_dict_2[\"Disagree\"]"
   ]
  },
  {
   "cell_type": "code",
   "execution_count": 47,
   "id": "46b81e55",
   "metadata": {
    "id": "46b81e55"
   },
   "outputs": [
    {
     "data": {
      "text/plain": [
       "['Strongly Disagree', 'Disagree', 2, 3, 4]"
      ]
     },
     "execution_count": 47,
     "metadata": {},
     "output_type": "execute_result"
    }
   ],
   "source": [
    "list(survey_dict_2)"
   ]
  },
  {
   "cell_type": "markdown",
   "id": "3f9e0130",
   "metadata": {
    "id": "3f9e0130"
   },
   "source": [
    "### Dictionary Methods\n",
    "\n",
    "There are methods that you can use on dictionaries, just like with lists and arrays. Here are a few."
   ]
  },
  {
   "cell_type": "code",
   "execution_count": 48,
   "id": "f19dccf8",
   "metadata": {
    "id": "f19dccf8"
   },
   "outputs": [
    {
     "name": "stdout",
     "output_type": "stream",
     "text": [
      "['__class__', '__class_getitem__', '__contains__', '__delattr__', '__delitem__', '__dir__', '__doc__', '__eq__', '__format__', '__ge__', '__getattribute__', '__getitem__', '__gt__', '__hash__', '__init__', '__init_subclass__', '__ior__', '__iter__', '__le__', '__len__', '__lt__', '__ne__', '__new__', '__or__', '__reduce__', '__reduce_ex__', '__repr__', '__reversed__', '__ror__', '__setattr__', '__setitem__', '__sizeof__', '__str__', '__subclasshook__', 'clear', 'copy', 'fromkeys', 'get', 'items', 'keys', 'pop', 'popitem', 'setdefault', 'update', 'values']\n"
     ]
    }
   ],
   "source": [
    "print(dir(survey_dict_2))"
   ]
  },
  {
   "cell_type": "code",
   "execution_count": 49,
   "id": "1503380e",
   "metadata": {
    "id": "1503380e"
   },
   "outputs": [
    {
     "data": {
      "text/plain": [
       "dict_keys([0, 2, 3, 4, 'new_key'])"
      ]
     },
     "execution_count": 49,
     "metadata": {},
     "output_type": "execute_result"
    }
   ],
   "source": [
    "survey_dict.keys()"
   ]
  },
  {
   "cell_type": "code",
   "execution_count": 50,
   "id": "1d5f0aec",
   "metadata": {
    "id": "1d5f0aec"
   },
   "outputs": [
    {
     "data": {
      "text/plain": [
       "{0: 'Strongly Disagree',\n",
       " 2: 'No opinion',\n",
       " 3: 'Agree',\n",
       " 4: 'Strongly Agree',\n",
       " 'new_key': 'new value'}"
      ]
     },
     "execution_count": 50,
     "metadata": {},
     "output_type": "execute_result"
    }
   ],
   "source": [
    "survey_dict"
   ]
  },
  {
   "cell_type": "markdown",
   "id": "ff177a51",
   "metadata": {
    "id": "ff177a51"
   },
   "source": [
    "## ✏ <mark style=\"background-color: Thistle\">Working with Dictionaries: Short Exercise</mark>\n",
    "\n",
    "Below is a dictionary containing total number of homicides in the United States in 2021, by state. (Published by Statista Research Department, Oct 14, 2022). Note Washington D.C. is included as 'District of Columbia'.\n",
    "\n",
    "1. Pick a few states of interest and find their homicide number (use code here...do not just visually search the dictionary!)\n",
    "\n",
    "\n",
    "2. Find the number of keys in the dictionary. Does this imply all 50 states are included here?\n",
    "\n",
    "\n",
    "3. What are some limitations to this data?\n"
   ]
  },
  {
   "cell_type": "code",
   "execution_count": 51,
   "id": "1ee7ee01",
   "metadata": {
    "executionInfo": {
     "elapsed": 52,
     "status": "ok",
     "timestamp": 1749648137793,
     "user": {
      "displayName": "Theron White",
      "userId": "14734207447502985845"
     },
     "user_tz": 240
    },
    "id": "1ee7ee01"
   },
   "outputs": [],
   "source": [
    "homicide_dict = {'Texas': 2064, 'North Carolina': 928, 'Ohio': 824, 'Michigan': 747, 'Georgia': 728, 'Tennessee': 672, 'Missouri': 593, 'Virginia': 562, 'South Carolina': 548, 'Illinois': 514, 'Pennsylvania': 510, 'Louisiana': 447, 'Indiana': 438, 'Alabama': 370, 'Kentucky': 365, 'Colorado': 358, 'Washington': 325, 'Arkansas': 321, 'Wisconsin': 315, 'Oklahoma': 284, 'Nevada': 232, 'Minnesota': 203, 'Arizona': 190, 'Oregon': 188, 'New Mexico': 169, 'Mississippi': 149, 'Connecticut': 148, 'Maryland': 138, 'New Jersey': 137, 'Massachusetts': 132, 'New York': 124, 'California': 123, 'District of Columbia': 109, 'West Virginia': 95, 'Delaware': 94, 'Kansas': 87, 'Utah': 85, 'Iowa': 70, 'Rhode Island': 38, 'Idaho': 36, 'Montana': 31, 'South Dakota': 26, 'Nebraska': 25, 'Alaska': 18, 'Maine': 18, 'Wyoming': 17, 'New Hampshire': 14, 'North Dakota': 14, 'Vermont': 8, 'Hawaii': 6}"
   ]
  },
  {
   "cell_type": "code",
   "execution_count": 56,
   "id": "3d005775",
   "metadata": {
    "id": "3d005775"
   },
   "outputs": [
    {
     "name": "stdout",
     "output_type": "stream",
     "text": [
      "{'Texas': 2064, 'Ohio': 824, 'Georgia': 728, 'Missouri': 593}\n"
     ]
    }
   ],
   "source": [
    "states_of_interest = ['Texas', 'Ohio', 'Georgia', 'Missouri']\n",
    "print(homicide_numbers := {state: homicide_dict[state] for state in states_of_interest})\n",
    "num_states = len(homicide_dict)# int(f\"Number of entries in the dictionary: {num_states}\")\n",
    "# This implies that all 50 states are included here\n",
    "#3: Some limitations are that by giving just a basic count without context (e.g state population), the actual use of the data is limited.."
   ]
  },
  {
   "cell_type": "markdown",
   "id": "TQbkiH27Nidm",
   "metadata": {
    "id": "TQbkiH27Nidm"
   },
   "source": [
    "## ✏ <mark style=\"background-color: Thistle\">Reflection</mark>\n",
    "\n",
    "In the following markdown cell, write about something you learned while working through this notebook."
   ]
  },
  {
   "cell_type": "markdown",
   "id": "1-LqIsC0VgEF",
   "metadata": {
    "id": "1-LqIsC0VgEF"
   },
   "source": [
    "Though I'm familiar with basic data storage objects, the walkthrough was great to solidify concepts.\n",
    "Also, every opportunity I get to attempt reinstalling pandas or numpy is always welcome as I always run into technical issues and it's good to improve problem-solving."
   ]
  }
 ],
 "metadata": {
  "colab": {
   "provenance": []
  },
  "kernelspec": {
   "display_name": "venv",
   "language": "python",
   "name": "python3"
  },
  "language_info": {
   "codemirror_mode": {
    "name": "ipython",
    "version": 3
   },
   "file_extension": ".py",
   "mimetype": "text/x-python",
   "name": "python",
   "nbconvert_exporter": "python",
   "pygments_lexer": "ipython3",
   "version": "3.10.11"
  }
 },
 "nbformat": 4,
 "nbformat_minor": 5
}
